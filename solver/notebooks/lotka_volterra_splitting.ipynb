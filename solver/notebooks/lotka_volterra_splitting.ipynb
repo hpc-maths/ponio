{
 "cells": [
  {
   "cell_type": "markdown",
   "id": "e3090ff9",
   "metadata": {},
   "source": [
    "# Lotka-Volterra system with a splitting method of Lie or Strang"
   ]
  },
  {
   "cell_type": "markdown",
   "id": "488c265f",
   "metadata": {},
   "source": [
    "> In this example we reuse previous definition in [Lotka-Voleterra resolution with Runge-Kutta method](lotka_volterra_rungekutta.ipynb) which is the first tutorial. In this notebook we solve the same example. "
   ]
  },
  {
   "cell_type": "markdown",
   "id": "1a208055",
   "metadata": {},
   "source": [
    "The system is definied as:\n",
    "\n",
    "$$\n",
    "  \\begin{aligned}\n",
    "    \\frac{\\mathrm{d}x}{\\mathrm{d}t} &= \\alpha x  - \\beta xy \\\\\n",
    "    \\frac{\\mathrm{d}y}{\\mathrm{d}t} &= \\delta xy - \\gamma y \\\\\n",
    "  \\end{aligned}\n",
    "$$\n",
    "\n",
    "where:\n",
    "\n",
    "* $x$ is the number of prey\n",
    "* $y$ is the number of predators\n",
    "* $t$ represents time\n",
    "* $\\alpha$, $\\beta$, $\\gamma$ and $\\delta$ are postive real parameters describing the interaction of the two species.\n",
    "\n",
    "We would like to compute the invariant $V$ definied by:\n",
    "\n",
    "$$\n",
    "  V = \\delta x - \\gamma \\ln(x) + \\beta y - \\alpha \\ln(y)\n",
    "$$"
   ]
  },
  {
   "cell_type": "markdown",
   "id": "857b08b1",
   "metadata": {},
   "source": [
    "## Lie or Strang splitting method\n",
    "\n",
    "An other class of time integrator in Ponio is splitting methods. To use it you need to define each subproblem. In Lotka-Volterra we chose to define this subproblems:\n",
    "\n",
    "$$\n",
    "  \\varphi^{[1]} = \\begin{cases}\n",
    "    \\dot{x} = \\alpha x - \\beta xy \\\\\n",
    "    \\dot{y} = 0\n",
    "  \\end{cases} , \\qquad\n",
    "  \\varphi^{[2]} = \\begin{cases}\n",
    "    \\dot{x} = 0 \\\\\n",
    "    \\dot{y} = \\delta xy - \\gamma y\n",
    "  \\end{cases}\n",
    "$$\n",
    "\n",
    "The Lie splitting is defined by\n",
    "\n",
    "$$\n",
    "  u^{n+1} = \\varphi^{[1]}_{\\Delta t} \\circ \\varphi^{[2]}_{\\Delta t}(u^n)\n",
    "$$\n",
    "where $\\varphi^{[i]}_{\\Delta t}$ is a solution after time $\\Delta t$ on the problem $\\varphi^{[i]}$.\n",
    "\n",
    "The Strang splitting method is defined by\n",
    "\n",
    "$$\n",
    "  u^{n+1} = \\varphi^{[1]}_{\\Delta t/2} \\circ \\varphi^{[2]}_{\\Delta t} \\circ \\varphi^{[1]}_{\\Delta t/2}(u^n)\n",
    "$$\n",
    "\n",
    "First we need to define two functions (or objects function):\n",
    "\n",
    "```cpp\n",
    "auto phi1 = [=]( double t, state_t const& u ) -> state_t {\n",
    "    double x = u[0], y = u[1];\n",
    "    return { alpha*x - beta*x*y , 0. };\n",
    "};\n",
    "auto phi2 = [=]( double t, state_t const& u ) -> state_t {\n",
    "    double x = u[0], y = u[1];\n",
    "    return { 0. , delta*x*y - gamma*y };\n",
    "};\n",
    "```\n",
    "\n",
    "Now define a `ode::problem` with `ode::make_problem`\n",
    "\n",
    "```cppr\n",
    "auto pb = ode::make_problem( phi1, phi2 );\n",
    "```\n",
    "\n",
    "To solve it with a Lie or Strang splitting method, we should define a tuple of methods to say how to solve each sub-problem:\n",
    "\n",
    "```cpp\n",
    "auto lie = ode::splitting::make_lie_tuple(ode::butcher::rk_44<>(),ode::butcher::rk_33<>();\n",
    "\n",
    "ode::solve(pb, lie, u_ini, {0.,tf}, dt, \"lv_demo/lv1_lie.dat\"_fobs);\n",
    "```\n",
    "\n",
    "For Strang splitting method, we define a `ode::strang_tuple` in the same way\n",
    "\n",
    "```cpp\n",
    "auto strang = ode::splitting::make_strang_tuple(ode::butcher::rk_44<>(),ode::butcher::rk_33<>();\n",
    "\n",
    "ode::solve(pb, strang, u_ini, {0.,tf}, dt, \"lv_demo/lv1_strang.dat\"_fobs);\n",
    "```"
   ]
  },
  {
   "cell_type": "code",
   "execution_count": null,
   "id": "b839ceb3",
   "metadata": {},
   "outputs": [],
   "source": [
    "%system mkdir -p lv_demo"
   ]
  },
  {
   "cell_type": "code",
   "execution_count": null,
   "id": "5b2d68ce",
   "metadata": {},
   "outputs": [],
   "source": [
    "%%writefile lv_demo/lv1_split.cpp\n",
    "\n",
    "#include <iostream>\n",
    "#include <valarray>\n",
    "#include <functional>\n",
    "\n",
    "#include \"solver/solver.hpp\"\n",
    "#include \"solver/observer.hpp\"\n",
    "#include \"solver/problem.hpp\"\n",
    "#include \"solver/butcher_methods.hpp\"\n",
    "\n",
    "struct Lotka_Voleterra\n",
    "{\n",
    "    using state_t = std::valarray<double>;\n",
    "    double alpha;\n",
    "    double beta;\n",
    "    double gamma;\n",
    "    double delta;\n",
    "    \n",
    "    Lotka_Voleterra(double a, double b, double g, double d)\n",
    "    : alpha(a), beta(b), gamma(g), delta(d)\n",
    "    {}\n",
    "    \n",
    "    state_t phi1(double t, state_t const& u) {\n",
    "        double x = u[0], y = u[1];\n",
    "        return { alpha*x - beta*x*y , 0. };\n",
    "    }\n",
    "    \n",
    "    state_t phi2(double t, state_t const& u) {\n",
    "        double x = u[0], y = u[1];\n",
    "        return { 0. , delta*x*y - gamma*y };\n",
    "    }\n",
    "};\n",
    "\n",
    "int main()\n",
    "{\n",
    "    using state_t = std::valarray<double>;\n",
    "    using namespace observer;\n",
    "    using namespace std::placeholders;\n",
    "\n",
    "    double alpha = 2./3., beta=4./3., gamma=1., delta=1.;\n",
    "    Lotka_Voleterra lv(alpha,beta,gamma,delta);\n",
    "    \n",
    "    auto phi1 = std::bind(&Lotka_Voleterra::phi1, &lv, _1, _2);\n",
    "    auto phi2 = std::bind(&Lotka_Voleterra::phi2, &lv, _1, _2);\n",
    "    \n",
    "    auto pb  = ode::make_problem(phi1,phi2);\n",
    "\n",
    "    double dt = 0.1;\n",
    "    double tf = 100;\n",
    "    state_t u_ini = {1.8,1.8};\n",
    "    \n",
    "    auto lie = ode::splitting::make_lie_tuple(\n",
    "        std::make_pair(ode::butcher::rk_44(),0.05),\n",
    "        std::make_pair(ode::butcher::rk_33(),0.05)\n",
    "    );\n",
    "    auto strang = ode::splitting::make_strang_tuple(\n",
    "        std::make_pair(ode::butcher::rk_44(),0.05),\n",
    "        std::make_pair(ode::butcher::rk_33(),0.05)\n",
    "    );\n",
    "\n",
    "    ode::solve(pb, lie, u_ini, {0.,tf}, dt, \"lv_demo/lv1_lie.dat\"_fobs);\n",
    "    ode::solve(pb, strang, u_ini, {0.,tf}, dt, \"lv_demo/lv1_strang.dat\"_fobs);\n",
    "\n",
    "    return 0;\n",
    "}"
   ]
  },
  {
   "cell_type": "code",
   "execution_count": null,
   "id": "ff6638b1",
   "metadata": {},
   "outputs": [],
   "source": [
    "%system $CXX -std=c++20 -I ../include lv_demo/lv1_split.cpp -o lv_demo/lv1_split && ./lv_demo/lv1_split"
   ]
  },
  {
   "cell_type": "code",
   "execution_count": null,
   "id": "f8ba0668",
   "metadata": {},
   "outputs": [],
   "source": [
    "import numpy as np\n",
    "import matplotlib.pyplot as plt"
   ]
  },
  {
   "cell_type": "code",
   "execution_count": null,
   "id": "be416a10",
   "metadata": {},
   "outputs": [],
   "source": [
    "data = np.loadtxt(\"lv_demo/lv1_lie.dat\")\n",
    "t_lie = data[:,0]\n",
    "x_lie = data[:,1]\n",
    "y_lie = data[:,2]\n",
    "\n",
    "data = np.loadtxt(\"lv_demo/lv1_strang.dat\")\n",
    "t_strang = data[:,0]\n",
    "x_strang = data[:,1]\n",
    "y_strang = data[:,2]"
   ]
  },
  {
   "cell_type": "code",
   "execution_count": null,
   "id": "b2550067",
   "metadata": {},
   "outputs": [],
   "source": [
    "plt.plot(t_lie,x_lie,label=\"prey\")\n",
    "plt.plot(t_lie,y_lie,label=\"predator\")\n",
    "plt.xlabel(\"time\")\n",
    "plt.title(\"Solution done by Lie splitting method\")\n",
    "plt.legend()\n",
    "plt.show()"
   ]
  },
  {
   "cell_type": "code",
   "execution_count": null,
   "id": "0b50a1f1",
   "metadata": {},
   "outputs": [],
   "source": [
    "plt.plot(t_strang,x_strang,label=\"prey\")\n",
    "plt.plot(t_strang,y_strang,label=\"predator\")\n",
    "plt.xlabel(\"time\")\n",
    "plt.title(\"Solution done by Strang splitting method\")\n",
    "plt.legend()\n",
    "plt.show()"
   ]
  },
  {
   "cell_type": "code",
   "execution_count": null,
   "id": "34767244",
   "metadata": {},
   "outputs": [],
   "source": [
    "plt.plot(x_lie,y_lie,label=\"Lie splitting\")\n",
    "plt.plot(x_strang,y_strang,label=\"Strang splitting\")\n",
    "plt.legend()\n",
    "plt.xlabel(\"prey\")\n",
    "plt.ylabel(\"predator\")\n",
    "plt.title(\"Phase plane\")\n",
    "plt.show()"
   ]
  },
  {
   "cell_type": "markdown",
   "id": "970747d0",
   "metadata": {},
   "source": [
    "Now define the invariant $V$ :\n",
    "    \n",
    "$$\n",
    "  V = \\delta x - \\ln(x) + \\beta y - \\alpha \\ln(y)\n",
    "$$"
   ]
  },
  {
   "cell_type": "code",
   "execution_count": null,
   "id": "5b1ae08c",
   "metadata": {},
   "outputs": [],
   "source": [
    "def V(x,y, alpha=2./3., beta=4./3., gamma=1., delta=1.):\n",
    "    return delta*x - np.log(x) + beta*y - alpha*np.log(y)"
   ]
  },
  {
   "cell_type": "code",
   "execution_count": null,
   "id": "bd2ce395",
   "metadata": {},
   "outputs": [],
   "source": [
    "V0 = V(x_lie[0],y_lie[0])\n",
    "plt.plot(t_lie,V(x_lie,y_lie)/V0-1.,label=\"Lie splitting\")\n",
    "plt.plot(t_strang,V(x_strang,y_strang)/V0-1.,label=\"Strang splitting\")\n",
    "plt.axhline(0,0,1,linestyle=\"--\",color=\"grey\",linewidth=1)\n",
    "plt.title(\"Relative error on invariant $V$\")\n",
    "plt.xlabel(\"time\")\n",
    "plt.legend()\n",
    "plt.show()"
   ]
  },
  {
   "cell_type": "code",
   "execution_count": null,
   "id": "59d8b709",
   "metadata": {},
   "outputs": [],
   "source": []
  }
 ],
 "metadata": {
  "kernelspec": {
   "display_name": "Python 3 (ipykernel)",
   "language": "python",
   "name": "python3"
  },
  "language_info": {
   "codemirror_mode": {
    "name": "ipython",
    "version": 3
   },
   "file_extension": ".py",
   "mimetype": "text/x-python",
   "name": "python",
   "nbconvert_exporter": "python",
   "pygments_lexer": "ipython3",
   "version": "3.10.6"
  }
 },
 "nbformat": 4,
 "nbformat_minor": 5
}
